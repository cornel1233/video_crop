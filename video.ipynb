{
 "cells": [
  {
   "cell_type": "code",
   "execution_count": 19,
   "id": "f9cbf838",
   "metadata": {},
   "outputs": [
    {
     "name": "stdout",
     "output_type": "stream",
     "text": [
      "Collecting moviepy==1.0.3\n",
      "  Downloading moviepy-1.0.3.tar.gz (388 kB)\n",
      "  Installing build dependencies ... \u001b[?25ldone\n",
      "\u001b[?25h  Getting requirements to build wheel ... \u001b[?25ldone\n",
      "\u001b[?25h  Preparing metadata (pyproject.toml) ... \u001b[?25ldone\n",
      "\u001b[?25hCollecting decorator<5.0,>=4.0.2 (from moviepy==1.0.3)\n",
      "  Downloading decorator-4.4.2-py2.py3-none-any.whl.metadata (4.2 kB)\n",
      "Requirement already satisfied: imageio<3.0,>=2.5 in ./.venv/lib/python3.10/site-packages (from moviepy==1.0.3) (2.37.0)\n",
      "Requirement already satisfied: imageio_ffmpeg>=0.2.0 in ./.venv/lib/python3.10/site-packages (from moviepy==1.0.3) (0.6.0)\n",
      "Requirement already satisfied: tqdm<5.0,>=4.11.2 in ./.venv/lib/python3.10/site-packages (from moviepy==1.0.3) (4.67.1)\n",
      "Requirement already satisfied: numpy>=1.17.3 in ./.venv/lib/python3.10/site-packages (from moviepy==1.0.3) (2.2.6)\n",
      "Collecting requests<3.0,>=2.8.1 (from moviepy==1.0.3)\n",
      "  Downloading requests-2.32.5-py3-none-any.whl.metadata (4.9 kB)\n",
      "Requirement already satisfied: proglog<=1.0.0 in ./.venv/lib/python3.10/site-packages (from moviepy==1.0.3) (0.1.12)\n",
      "Requirement already satisfied: pillow>=8.3.2 in ./.venv/lib/python3.10/site-packages (from imageio<3.0,>=2.5->moviepy==1.0.3) (11.3.0)\n",
      "Collecting charset_normalizer<4,>=2 (from requests<3.0,>=2.8.1->moviepy==1.0.3)\n",
      "  Downloading charset_normalizer-3.4.3-cp310-cp310-manylinux2014_x86_64.manylinux_2_17_x86_64.manylinux_2_28_x86_64.whl.metadata (36 kB)\n",
      "Collecting idna<4,>=2.5 (from requests<3.0,>=2.8.1->moviepy==1.0.3)\n",
      "  Downloading idna-3.10-py3-none-any.whl.metadata (10 kB)\n",
      "Collecting urllib3<3,>=1.21.1 (from requests<3.0,>=2.8.1->moviepy==1.0.3)\n",
      "  Downloading urllib3-2.5.0-py3-none-any.whl.metadata (6.5 kB)\n",
      "Collecting certifi>=2017.4.17 (from requests<3.0,>=2.8.1->moviepy==1.0.3)\n",
      "  Downloading certifi-2025.8.3-py3-none-any.whl.metadata (2.4 kB)\n",
      "Downloading decorator-4.4.2-py2.py3-none-any.whl (9.2 kB)\n",
      "Downloading requests-2.32.5-py3-none-any.whl (64 kB)\n",
      "Downloading charset_normalizer-3.4.3-cp310-cp310-manylinux2014_x86_64.manylinux_2_17_x86_64.manylinux_2_28_x86_64.whl (152 kB)\n",
      "Downloading idna-3.10-py3-none-any.whl (70 kB)\n",
      "Downloading urllib3-2.5.0-py3-none-any.whl (129 kB)\n",
      "Downloading certifi-2025.8.3-py3-none-any.whl (161 kB)\n",
      "Building wheels for collected packages: moviepy\n",
      "  Building wheel for moviepy (pyproject.toml) ... \u001b[?25ldone\n",
      "\u001b[?25h  Created wheel for moviepy: filename=moviepy-1.0.3-py3-none-any.whl size=110797 sha256=12b27a84c331a33d54480ea5cbef7f455ed2729261c8e3c32fa6b2b08035b9d5\n",
      "  Stored in directory: /home/ccadrien/.cache/pip/wheels/96/32/2d/e10123bd88fbfc02fed53cc18c80a171d3c87479ed845fa7c1\n",
      "Successfully built moviepy\n",
      "Installing collected packages: urllib3, idna, decorator, charset_normalizer, certifi, requests, moviepy\n",
      "\u001b[2K  Attempting uninstall: decorator━━━━━━━━━━━━━━━━━━━━━━━━━━━━━━━━━\u001b[0m \u001b[32m1/7\u001b[0m [idna]\n",
      "\u001b[2K    Found existing installation: decorator 5.2.1━━━━━━━━━━━━━━\u001b[0m \u001b[32m1/7\u001b[0m [idna]\n",
      "\u001b[2K    Uninstalling decorator-5.2.1:━━━━━━━━━━━━━━━━━━━━━━━━━━━━━\u001b[0m \u001b[32m1/7\u001b[0m [idna]\n",
      "\u001b[2K      Successfully uninstalled decorator-5.2.1━━━━━━━━━━━━━━━━\u001b[0m \u001b[32m1/7\u001b[0m [idna]\n",
      "\u001b[2K  Attempting uninstall: moviepy━━━━━\u001b[0m\u001b[91m╸\u001b[0m\u001b[90m━━━━━━━━━━━\u001b[0m \u001b[32m5/7\u001b[0m [requests]\n",
      "\u001b[2K    Found existing installation: moviepy 2.2.1\u001b[90m━━━━━━━━━━━\u001b[0m \u001b[32m5/7\u001b[0m [requests]\n",
      "\u001b[2K    Uninstalling moviepy-2.2.1:━\u001b[0m\u001b[91m╸\u001b[0m\u001b[90m━━━━━━━━━━━\u001b[0m \u001b[32m5/7\u001b[0m [requests]\n",
      "\u001b[2K      Successfully uninstalled moviepy-2.2.10m\u001b[90m━━━━━━━━━━━\u001b[0m \u001b[32m5/7\u001b[0m [requests]\n",
      "\u001b[2K   \u001b[90m━━━━━━━━━━━━━━━━━━━━━━━━━━━━━━━━━━━━━━━━\u001b[0m \u001b[32m7/7\u001b[0m [moviepy]\u001b[0m [requests]\n",
      "\u001b[1A\u001b[2KSuccessfully installed certifi-2025.8.3 charset_normalizer-3.4.3 decorator-4.4.2 idna-3.10 moviepy-1.0.3 requests-2.32.5 urllib3-2.5.0\n",
      "Note: you may need to restart the kernel to use updated packages.\n"
     ]
    }
   ],
   "source": [
    "pip install \"moviepy==1.0.3\"\n"
   ]
  },
  {
   "cell_type": "code",
   "execution_count": 1,
   "id": "f02de745",
   "metadata": {},
   "outputs": [],
   "source": [
    "# Set your input folder here\n",
    "INPUT_FOLDER = \"/run/user/102618/gvfs/mtp:host=SAMSUNG_SAMSUNG_Android_RFCM800FAMZ/Internal storage/133PHOTO\"\n",
    "OUTPUT_PORTRAIT = \"/run/user/102618/gvfs/mtp:host=SAMSUNG_SAMSUNG_Android_RFCM800FAMZ/Internal storage/portrait_clips\"\n",
    "OUTPUT_ROTATED = \"/run/user/102618/gvfs/mtp:host=SAMSUNG_SAMSUNG_Android_RFCM800FAMZ/Internal storage/rotated_left\"\n"
   ]
  },
  {
   "cell_type": "code",
   "execution_count": null,
   "id": "f71f141c",
   "metadata": {},
   "outputs": [
    {
     "name": "stdout",
     "output_type": "stream",
     "text": [
      "Processing SAM_0261...\n",
      "Moviepy - Building video /run/user/102618/gvfs/mtp:host=SAMSUNG_SAMSUNG_Android_RFCM800FAMZ/Internal storage/portrait_clips/SAM_0261_left.mp4.\n",
      "MoviePy - Writing audio in SAM_0261_leftTEMP_MPY_wvf_snd.mp4\n"
     ]
    },
    {
     "name": "stderr",
     "output_type": "stream",
     "text": [
      "                                                                   \r"
     ]
    },
    {
     "name": "stdout",
     "output_type": "stream",
     "text": [
      "MoviePy - Done.\n",
      "Moviepy - Writing video /run/user/102618/gvfs/mtp:host=SAMSUNG_SAMSUNG_Android_RFCM800FAMZ/Internal storage/portrait_clips/SAM_0261_left.mp4\n",
      "\n"
     ]
    },
    {
     "name": "stderr",
     "output_type": "stream",
     "text": [
      "                                                              \r"
     ]
    },
    {
     "name": "stdout",
     "output_type": "stream",
     "text": [
      "Moviepy - Done !\n",
      "Moviepy - video ready /run/user/102618/gvfs/mtp:host=SAMSUNG_SAMSUNG_Android_RFCM800FAMZ/Internal storage/portrait_clips/SAM_0261_left.mp4\n",
      "Moviepy - Building video /run/user/102618/gvfs/mtp:host=SAMSUNG_SAMSUNG_Android_RFCM800FAMZ/Internal storage/portrait_clips/SAM_0261_mid.mp4.\n",
      "MoviePy - Writing audio in SAM_0261_midTEMP_MPY_wvf_snd.mp4\n"
     ]
    },
    {
     "name": "stderr",
     "output_type": "stream",
     "text": [
      "                                                                   \r"
     ]
    },
    {
     "name": "stdout",
     "output_type": "stream",
     "text": [
      "MoviePy - Done.\n",
      "Moviepy - Writing video /run/user/102618/gvfs/mtp:host=SAMSUNG_SAMSUNG_Android_RFCM800FAMZ/Internal storage/portrait_clips/SAM_0261_mid.mp4\n",
      "\n"
     ]
    },
    {
     "name": "stderr",
     "output_type": "stream",
     "text": [
      "                                                              \r"
     ]
    },
    {
     "name": "stdout",
     "output_type": "stream",
     "text": [
      "Moviepy - Done !\n",
      "Moviepy - video ready /run/user/102618/gvfs/mtp:host=SAMSUNG_SAMSUNG_Android_RFCM800FAMZ/Internal storage/portrait_clips/SAM_0261_mid.mp4\n",
      "Moviepy - Building video /run/user/102618/gvfs/mtp:host=SAMSUNG_SAMSUNG_Android_RFCM800FAMZ/Internal storage/portrait_clips/SAM_0261_right.mp4.\n",
      "MoviePy - Writing audio in SAM_0261_rightTEMP_MPY_wvf_snd.mp4\n"
     ]
    },
    {
     "name": "stderr",
     "output_type": "stream",
     "text": [
      "                                                                   \r"
     ]
    },
    {
     "name": "stdout",
     "output_type": "stream",
     "text": [
      "MoviePy - Done.\n",
      "Moviepy - Writing video /run/user/102618/gvfs/mtp:host=SAMSUNG_SAMSUNG_Android_RFCM800FAMZ/Internal storage/portrait_clips/SAM_0261_right.mp4\n",
      "\n"
     ]
    },
    {
     "name": "stderr",
     "output_type": "stream",
     "text": [
      "                                                              \r"
     ]
    },
    {
     "name": "stdout",
     "output_type": "stream",
     "text": [
      "Moviepy - Done !\n",
      "Moviepy - video ready /run/user/102618/gvfs/mtp:host=SAMSUNG_SAMSUNG_Android_RFCM800FAMZ/Internal storage/portrait_clips/SAM_0261_right.mp4\n",
      "Moviepy - Building video /run/user/102618/gvfs/mtp:host=SAMSUNG_SAMSUNG_Android_RFCM800FAMZ/Internal storage/rotated_left/SAM_0261_rotated_left.mp4.\n",
      "MoviePy - Writing audio in SAM_0261_rotated_leftTEMP_MPY_wvf_snd.mp4\n"
     ]
    },
    {
     "name": "stderr",
     "output_type": "stream",
     "text": [
      "                                                                   \r"
     ]
    },
    {
     "name": "stdout",
     "output_type": "stream",
     "text": [
      "MoviePy - Done.\n",
      "Moviepy - Writing video /run/user/102618/gvfs/mtp:host=SAMSUNG_SAMSUNG_Android_RFCM800FAMZ/Internal storage/rotated_left/SAM_0261_rotated_left.mp4\n",
      "\n"
     ]
    },
    {
     "name": "stderr",
     "output_type": "stream",
     "text": [
      "                                                              \r"
     ]
    },
    {
     "name": "stdout",
     "output_type": "stream",
     "text": [
      "Moviepy - Done !\n",
      "Moviepy - video ready /run/user/102618/gvfs/mtp:host=SAMSUNG_SAMSUNG_Android_RFCM800FAMZ/Internal storage/rotated_left/SAM_0261_rotated_left.mp4\n",
      "Processing SAM_0180...\n",
      "Moviepy - Building video /run/user/102618/gvfs/mtp:host=SAMSUNG_SAMSUNG_Android_RFCM800FAMZ/Internal storage/portrait_clips/SAM_0180_left.mp4.\n",
      "MoviePy - Writing audio in SAM_0180_leftTEMP_MPY_wvf_snd.mp4\n"
     ]
    },
    {
     "name": "stderr",
     "output_type": "stream",
     "text": [
      "                                                                   \r"
     ]
    },
    {
     "name": "stdout",
     "output_type": "stream",
     "text": [
      "MoviePy - Done.\n",
      "Moviepy - Writing video /run/user/102618/gvfs/mtp:host=SAMSUNG_SAMSUNG_Android_RFCM800FAMZ/Internal storage/portrait_clips/SAM_0180_left.mp4\n",
      "\n"
     ]
    },
    {
     "name": "stderr",
     "output_type": "stream",
     "text": [
      "                                                              \r"
     ]
    },
    {
     "name": "stdout",
     "output_type": "stream",
     "text": [
      "Moviepy - Done !\n",
      "Moviepy - video ready /run/user/102618/gvfs/mtp:host=SAMSUNG_SAMSUNG_Android_RFCM800FAMZ/Internal storage/portrait_clips/SAM_0180_left.mp4\n",
      "Moviepy - Building video /run/user/102618/gvfs/mtp:host=SAMSUNG_SAMSUNG_Android_RFCM800FAMZ/Internal storage/portrait_clips/SAM_0180_mid.mp4.\n",
      "MoviePy - Writing audio in SAM_0180_midTEMP_MPY_wvf_snd.mp4\n"
     ]
    },
    {
     "name": "stderr",
     "output_type": "stream",
     "text": [
      "                                                                   \r"
     ]
    },
    {
     "name": "stdout",
     "output_type": "stream",
     "text": [
      "MoviePy - Done.\n",
      "Moviepy - Writing video /run/user/102618/gvfs/mtp:host=SAMSUNG_SAMSUNG_Android_RFCM800FAMZ/Internal storage/portrait_clips/SAM_0180_mid.mp4\n",
      "\n"
     ]
    },
    {
     "name": "stderr",
     "output_type": "stream",
     "text": [
      "                                                              \r"
     ]
    },
    {
     "name": "stdout",
     "output_type": "stream",
     "text": [
      "Moviepy - Done !\n",
      "Moviepy - video ready /run/user/102618/gvfs/mtp:host=SAMSUNG_SAMSUNG_Android_RFCM800FAMZ/Internal storage/portrait_clips/SAM_0180_mid.mp4\n",
      "Moviepy - Building video /run/user/102618/gvfs/mtp:host=SAMSUNG_SAMSUNG_Android_RFCM800FAMZ/Internal storage/portrait_clips/SAM_0180_right.mp4.\n",
      "MoviePy - Writing audio in SAM_0180_rightTEMP_MPY_wvf_snd.mp4\n"
     ]
    },
    {
     "name": "stderr",
     "output_type": "stream",
     "text": [
      "                                                                   \r"
     ]
    },
    {
     "name": "stdout",
     "output_type": "stream",
     "text": [
      "MoviePy - Done.\n",
      "Moviepy - Writing video /run/user/102618/gvfs/mtp:host=SAMSUNG_SAMSUNG_Android_RFCM800FAMZ/Internal storage/portrait_clips/SAM_0180_right.mp4\n",
      "\n"
     ]
    },
    {
     "name": "stderr",
     "output_type": "stream",
     "text": [
      "                                                              \r"
     ]
    },
    {
     "name": "stdout",
     "output_type": "stream",
     "text": [
      "Moviepy - Done !\n",
      "Moviepy - video ready /run/user/102618/gvfs/mtp:host=SAMSUNG_SAMSUNG_Android_RFCM800FAMZ/Internal storage/portrait_clips/SAM_0180_right.mp4\n",
      "Moviepy - Building video /run/user/102618/gvfs/mtp:host=SAMSUNG_SAMSUNG_Android_RFCM800FAMZ/Internal storage/rotated_left/SAM_0180_rotated_left.mp4.\n",
      "MoviePy - Writing audio in SAM_0180_rotated_leftTEMP_MPY_wvf_snd.mp4\n"
     ]
    },
    {
     "name": "stderr",
     "output_type": "stream",
     "text": [
      "                                                                   \r"
     ]
    },
    {
     "name": "stdout",
     "output_type": "stream",
     "text": [
      "MoviePy - Done.\n",
      "Moviepy - Writing video /run/user/102618/gvfs/mtp:host=SAMSUNG_SAMSUNG_Android_RFCM800FAMZ/Internal storage/rotated_left/SAM_0180_rotated_left.mp4\n",
      "\n"
     ]
    },
    {
     "name": "stderr",
     "output_type": "stream",
     "text": [
      "                                                              \r"
     ]
    },
    {
     "name": "stdout",
     "output_type": "stream",
     "text": [
      "Moviepy - Done !\n",
      "Moviepy - video ready /run/user/102618/gvfs/mtp:host=SAMSUNG_SAMSUNG_Android_RFCM800FAMZ/Internal storage/rotated_left/SAM_0180_rotated_left.mp4\n",
      "Processing SAM_0253...\n",
      "Moviepy - Building video /run/user/102618/gvfs/mtp:host=SAMSUNG_SAMSUNG_Android_RFCM800FAMZ/Internal storage/portrait_clips/SAM_0253_left.mp4.\n",
      "MoviePy - Writing audio in SAM_0253_leftTEMP_MPY_wvf_snd.mp4\n"
     ]
    },
    {
     "name": "stderr",
     "output_type": "stream",
     "text": [
      "                                                                   \r"
     ]
    },
    {
     "name": "stdout",
     "output_type": "stream",
     "text": [
      "MoviePy - Done.\n",
      "Moviepy - Writing video /run/user/102618/gvfs/mtp:host=SAMSUNG_SAMSUNG_Android_RFCM800FAMZ/Internal storage/portrait_clips/SAM_0253_left.mp4\n",
      "\n"
     ]
    },
    {
     "name": "stderr",
     "output_type": "stream",
     "text": [
      "t:  68%|██████▊   | 219/321 [00:03<00:01, 56.23it/s, now=None]"
     ]
    }
   ],
   "source": [
    "import os\n",
    "from moviepy.editor import VideoFileClip\n",
    "\n",
    "os.makedirs(OUTPUT_PORTRAIT, exist_ok=True)\n",
    "os.makedirs(OUTPUT_ROTATED, exist_ok=True)\n",
    "\n",
    "def process_video(path):\n",
    "    basename = os.path.splitext(os.path.basename(path))[0]\n",
    "    print(f\"Processing {basename}...\")\n",
    "\n",
    "    clip = VideoFileClip(path)\n",
    "    w, h = clip.size\n",
    "\n",
    "    if w <= h:\n",
    "        print(f\"  Skipping {basename}: not landscape ({w}x{h})\")\n",
    "        clip.close()\n",
    "        return\n",
    "\n",
    "    portrait_w = int(h * 9 / 16)\n",
    "\n",
    "    # left\n",
    "    left = clip.crop(x1=0, y1=0, width=portrait_w, height=h)\n",
    "    left.write_videofile(os.path.join(OUTPUT_PORTRAIT, f\"{basename}_left.mp4\"),\n",
    "                         codec=\"libx264\", audio_codec=\"aac\")\n",
    "\n",
    "    # mid\n",
    "    mid_x = (w - portrait_w) // 2\n",
    "    mid = clip.crop(x1=mid_x, y1=0, width=portrait_w, height=h)\n",
    "    mid.write_videofile(os.path.join(OUTPUT_PORTRAIT, f\"{basename}_mid.mp4\"),\n",
    "                        codec=\"libx264\", audio_codec=\"aac\")\n",
    "\n",
    "    # right\n",
    "    right_x = w - portrait_w\n",
    "    right = clip.crop(x1=right_x, y1=0, width=portrait_w, height=h)\n",
    "    right.write_videofile(os.path.join(OUTPUT_PORTRAIT, f\"{basename}_right.mp4\"),\n",
    "                          codec=\"libx264\", audio_codec=\"aac\")\n",
    "\n",
    "    # rotate full clip 90° CCW\n",
    "    rot = clip.rotate(90)\n",
    "    rot.write_videofile(os.path.join(OUTPUT_ROTATED, f\"{basename}_rotated_left.mp4\"),\n",
    "                        codec=\"libx264\", audio_codec=\"aac\")\n",
    "\n",
    "    clip.close()\n",
    "\n",
    "def batch_process(folder):\n",
    "    for fname in os.listdir(folder):\n",
    "        if fname.lower().endswith((\".mp4\", \".mov\", \".mkv\", \".avi\")):\n",
    "            process_video(os.path.join(folder, fname))\n",
    "\n",
    "if __name__ == \"__main__\":\n",
    "    batch_process(INPUT_FOLDER)\n",
    "    print(\"✅ All videos processed.\")\n"
   ]
  }
 ],
 "metadata": {
  "kernelspec": {
   "display_name": ".venv",
   "language": "python",
   "name": "python3"
  },
  "language_info": {
   "codemirror_mode": {
    "name": "ipython",
    "version": 3
   },
   "file_extension": ".py",
   "mimetype": "text/x-python",
   "name": "python",
   "nbconvert_exporter": "python",
   "pygments_lexer": "ipython3",
   "version": "3.10.12"
  }
 },
 "nbformat": 4,
 "nbformat_minor": 5
}
